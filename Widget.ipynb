{
 "cells": [
  {
   "cell_type": "code",
   "execution_count": 9,
   "id": "0a9708a0-8b24-4a50-b9a7-335cab042f49",
   "metadata": {},
   "outputs": [],
   "source": [
    "import matplotlib.pyplot as plt\n",
    "import numpy as np\n",
    "\n",
    "import ipywidgets as widgets\n",
    "from IPython.display import display\n",
    "\n",
    "import os"
   ]
  },
  {
   "cell_type": "code",
   "execution_count": 11,
   "id": "07fec465-fb4f-4686-987b-de8902077f30",
   "metadata": {},
   "outputs": [
    {
     "data": {
      "application/vnd.jupyter.widget-view+json": {
       "model_id": "335cee43fd90493c94a7771e0317e5bd",
       "version_major": 2,
       "version_minor": 0
      },
      "text/plain": [
       "interactive(children=(Play(value=1, description='Iter', max=1000, min=1), Output()), _dom_classes=('widget-int…"
      ]
     },
     "metadata": {},
     "output_type": "display_data"
    }
   ],
   "source": [
    "def Exponent(maxIteration):\n",
    "    x = np.arrange(5*maxIteration)\n",
    "    y = np.exp(x)\n",
    "    plt.scatter(x, y, color='g', marker='o')\n",
    "    plt.xlabel('X')\n",
    "    plt.ylabel('Y')\n",
    "    plt.title('Widget')\n",
    "    plt.show()\n",
    "\n",
    "maxIteration = widgets.Play(min=1, max=1000, value=1, description='Iter')\n",
    "widgets.interactive(Exponent, maxIteration=maxIteration)"
   ]
  },
  {
   "cell_type": "code",
   "execution_count": null,
   "id": "33a2ded5-f12b-48b5-8ba3-608534e6c6f8",
   "metadata": {},
   "outputs": [],
   "source": []
  }
 ],
 "metadata": {
  "kernelspec": {
   "display_name": "Python 3 (ipykernel)",
   "language": "python",
   "name": "python3"
  },
  "language_info": {
   "codemirror_mode": {
    "name": "ipython",
    "version": 3
   },
   "file_extension": ".py",
   "mimetype": "text/x-python",
   "name": "python",
   "nbconvert_exporter": "python",
   "pygments_lexer": "ipython3",
   "version": "3.11.7"
  }
 },
 "nbformat": 4,
 "nbformat_minor": 5
}
